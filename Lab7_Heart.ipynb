{
 "cells": [
  {
   "cell_type": "raw",
   "metadata": {},
   "source": [
    "---\n",
    "title: Lab 7 Heart Attack\n",
    "author: Kabir Wagle\n",
    "date: 2023-11-27\n",
    "format:\n",
    "    html:\n",
    "        self-contained: true\n",
    "---"
   ]
  },
  {
   "cell_type": "code",
   "execution_count": 342,
   "metadata": {},
   "outputs": [],
   "source": [
    "import sklearn\n",
    "import pandas as pd\n",
    "import numpy as np"
   ]
  },
  {
   "cell_type": "code",
   "execution_count": 343,
   "metadata": {},
   "outputs": [],
   "source": [
    "from sklearn.pipeline import Pipeline\n",
    "from sklearn.preprocessing import StandardScaler, OneHotEncoder, PolynomialFeatures\n",
    "from sklearn.linear_model import LinearRegression, Ridge, Lasso, ElasticNet\n",
    "from sklearn.model_selection import train_test_split\n",
    "from sklearn.metrics import r2_score, mean_squared_error, accuracy_score\n",
    "from sklearn.metrics import precision_recall_fscore_support, confusion_matrix, classification_report\n",
    "from sklearn.metrics import roc_curve, auc, cohen_kappa_score\n",
    "from sklearn.compose import ColumnTransformer, make_column_selector\n",
    "from sklearn.model_selection import GridSearchCV, cross_val_score, cross_val_predict\n",
    "from sklearn.neighbors import KNeighborsRegressor, KNeighborsClassifier\n",
    "from sklearn.tree import DecisionTreeClassifier, DecisionTreeRegressor\n",
    "from sklearn.linear_model import LogisticRegression"
   ]
  },
  {
   "cell_type": "code",
   "execution_count": 344,
   "metadata": {},
   "outputs": [
    {
     "data": {
      "text/html": [
       "<div>\n",
       "<style scoped>\n",
       "    .dataframe tbody tr th:only-of-type {\n",
       "        vertical-align: middle;\n",
       "    }\n",
       "\n",
       "    .dataframe tbody tr th {\n",
       "        vertical-align: top;\n",
       "    }\n",
       "\n",
       "    .dataframe thead th {\n",
       "        text-align: right;\n",
       "    }\n",
       "</style>\n",
       "<table border=\"1\" class=\"dataframe\">\n",
       "  <thead>\n",
       "    <tr style=\"text-align: right;\">\n",
       "      <th></th>\n",
       "      <th>age</th>\n",
       "      <th>sex</th>\n",
       "      <th>cp</th>\n",
       "      <th>trtbps</th>\n",
       "      <th>chol</th>\n",
       "      <th>restecg</th>\n",
       "      <th>thalach</th>\n",
       "      <th>output</th>\n",
       "    </tr>\n",
       "  </thead>\n",
       "  <tbody>\n",
       "    <tr>\n",
       "      <th>0</th>\n",
       "      <td>63</td>\n",
       "      <td>1</td>\n",
       "      <td>3</td>\n",
       "      <td>145</td>\n",
       "      <td>233</td>\n",
       "      <td>0</td>\n",
       "      <td>150</td>\n",
       "      <td>1</td>\n",
       "    </tr>\n",
       "    <tr>\n",
       "      <th>1</th>\n",
       "      <td>37</td>\n",
       "      <td>1</td>\n",
       "      <td>2</td>\n",
       "      <td>130</td>\n",
       "      <td>250</td>\n",
       "      <td>1</td>\n",
       "      <td>187</td>\n",
       "      <td>1</td>\n",
       "    </tr>\n",
       "    <tr>\n",
       "      <th>2</th>\n",
       "      <td>56</td>\n",
       "      <td>1</td>\n",
       "      <td>1</td>\n",
       "      <td>120</td>\n",
       "      <td>236</td>\n",
       "      <td>1</td>\n",
       "      <td>178</td>\n",
       "      <td>1</td>\n",
       "    </tr>\n",
       "  </tbody>\n",
       "</table>\n",
       "</div>"
      ],
      "text/plain": [
       "   age  sex cp  trtbps  chol restecg  thalach  output\n",
       "0   63    1  3     145   233       0      150       1\n",
       "1   37    1  2     130   250       1      187       1\n",
       "2   56    1  1     120   236       1      178       1"
      ]
     },
     "execution_count": 344,
     "metadata": {},
     "output_type": "execute_result"
    }
   ],
   "source": [
    "ha = pd.read_csv(\"https://www.dropbox.com/s/aohbr6yb9ifmc8w/heart_attack.csv?dl=1\")\n",
    "df = pd.DataFrame(ha)\n",
    "df['cp'] = df['cp'].astype('object')\n",
    "df['restecg'] = df['restecg'].astype('object')\n",
    "df['output'].astype(int)\n",
    "df.head(3)"
   ]
  },
  {
   "cell_type": "markdown",
   "metadata": {},
   "source": [
    "# Part One: Fitting Models"
   ]
  },
  {
   "cell_type": "code",
   "execution_count": 345,
   "metadata": {},
   "outputs": [],
   "source": [
    "#Universal Column Transformer\n",
    "\n",
    "ct = ColumnTransformer(\n",
    "    [(\"dm\", OneHotEncoder(sparse_output = False, handle_unknown = 'ignore'),\n",
    "      make_column_selector(dtype_include = object)),\n",
    "     (\"st\", StandardScaler(), \n",
    "      make_column_selector(dtype_include = np.number))], \n",
    "    remainder = \"drop\"\n",
    ").set_output(transform = \"pandas\")"
   ]
  },
  {
   "cell_type": "code",
   "execution_count": 346,
   "metadata": {},
   "outputs": [
    {
     "data": {
      "text/html": [
       "<div>\n",
       "<style scoped>\n",
       "    .dataframe tbody tr th:only-of-type {\n",
       "        vertical-align: middle;\n",
       "    }\n",
       "\n",
       "    .dataframe tbody tr th {\n",
       "        vertical-align: top;\n",
       "    }\n",
       "\n",
       "    .dataframe thead th {\n",
       "        text-align: right;\n",
       "    }\n",
       "</style>\n",
       "<table border=\"1\" class=\"dataframe\">\n",
       "  <thead>\n",
       "    <tr style=\"text-align: right;\">\n",
       "      <th></th>\n",
       "      <th>Model</th>\n",
       "      <th>K</th>\n",
       "      <th>Roc-Auc</th>\n",
       "    </tr>\n",
       "  </thead>\n",
       "  <tbody>\n",
       "    <tr>\n",
       "      <th>0</th>\n",
       "      <td>Model 1</td>\n",
       "      <td>20</td>\n",
       "      <td>0.831005</td>\n",
       "    </tr>\n",
       "    <tr>\n",
       "      <th>1</th>\n",
       "      <td>Model 1</td>\n",
       "      <td>40</td>\n",
       "      <td>0.836641</td>\n",
       "    </tr>\n",
       "    <tr>\n",
       "      <th>2</th>\n",
       "      <td>Model 1</td>\n",
       "      <td>60</td>\n",
       "      <td>0.847940</td>\n",
       "    </tr>\n",
       "    <tr>\n",
       "      <th>3</th>\n",
       "      <td>Model 2</td>\n",
       "      <td>20</td>\n",
       "      <td>0.829118</td>\n",
       "    </tr>\n",
       "    <tr>\n",
       "      <th>4</th>\n",
       "      <td>Model 2</td>\n",
       "      <td>40</td>\n",
       "      <td>0.847374</td>\n",
       "    </tr>\n",
       "    <tr>\n",
       "      <th>5</th>\n",
       "      <td>Model 2</td>\n",
       "      <td>60</td>\n",
       "      <td>0.843949</td>\n",
       "    </tr>\n",
       "    <tr>\n",
       "      <th>6</th>\n",
       "      <td>Model 3</td>\n",
       "      <td>20</td>\n",
       "      <td>0.841198</td>\n",
       "    </tr>\n",
       "    <tr>\n",
       "      <th>7</th>\n",
       "      <td>Model 3</td>\n",
       "      <td>40</td>\n",
       "      <td>0.847320</td>\n",
       "    </tr>\n",
       "    <tr>\n",
       "      <th>8</th>\n",
       "      <td>Model 3</td>\n",
       "      <td>60</td>\n",
       "      <td>0.845459</td>\n",
       "    </tr>\n",
       "  </tbody>\n",
       "</table>\n",
       "</div>"
      ],
      "text/plain": [
       "     Model   K   Roc-Auc\n",
       "0  Model 1  20  0.831005\n",
       "1  Model 1  40  0.836641\n",
       "2  Model 1  60  0.847940\n",
       "3  Model 2  20  0.829118\n",
       "4  Model 2  40  0.847374\n",
       "5  Model 2  60  0.843949\n",
       "6  Model 3  20  0.841198\n",
       "7  Model 3  40  0.847320\n",
       "8  Model 3  60  0.845459"
      ]
     },
     "execution_count": 346,
     "metadata": {},
     "output_type": "execute_result"
    }
   ],
   "source": [
    "#KNN Model Tuning\n",
    "\n",
    "def tune_knn(model, k):\n",
    "\n",
    "    X = df[model]\n",
    "    y = df['output']\n",
    "    \n",
    "    knn_pipeline = Pipeline(\n",
    "    [(\"preprocessing\", ct),\n",
    "     (\"knn\", KNeighborsClassifier(n_neighbors = k))])\n",
    "    \n",
    "    y_pred_cv = cross_val_predict(knn_pipeline, X, y, cv = 5, method = 'predict_proba')[:, 1]\n",
    "    fpr, tpr, _ = roc_curve(y, y_pred_cv)\n",
    "    roc_auc = auc(fpr, tpr)\n",
    "    \n",
    "    return roc_auc\n",
    "\n",
    "model1 = ['age', 'sex', 'cp', 'trtbps', 'chol', 'restecg', 'thalach']\n",
    "model2 = ['age', 'sex', 'cp', 'trtbps', 'chol', 'thalach']\n",
    "model3 = ['age', 'sex', 'cp', 'trtbps', 'thalach']\n",
    "models = {'Model 1': model1, 'Model 2': model2, 'Model 3': model3}\n",
    "k_values = [20, 40, 60]\n",
    "\n",
    "columns = ['Model', 'K', 'Roc-Auc']\n",
    "tune_df = pd.DataFrame(columns = columns)\n",
    "for name, model in models.items():\n",
    "    for k in k_values:\n",
    "        roc_auc = tune_knn(model, k)\n",
    "        row = {'Model': name, 'K': k, 'Roc-Auc': roc_auc}\n",
    "        row = pd.DataFrame([row])\n",
    "        tune_df = pd.concat([tune_df, row], ignore_index = True)\n",
    "        \n",
    "tune_df"
   ]
  },
  {
   "cell_type": "code",
   "execution_count": 347,
   "metadata": {},
   "outputs": [
    {
     "data": {
      "text/plain": [
       "array([[ 96,  31],\n",
       "       [ 30, 116]])"
      ]
     },
     "execution_count": 347,
     "metadata": {},
     "output_type": "execute_result"
    }
   ],
   "source": [
    "#KNN Model Fit (Model 3; K = 40)\n",
    "\n",
    "X = df[['age', 'sex', 'cp', 'trtbps', 'thalach']]\n",
    "y = df['output']\n",
    "    \n",
    "knn_pipeline = Pipeline(\n",
    "    [(\"preprocessing\", ct),\n",
    "     (\"knn\", KNeighborsClassifier(n_neighbors = 40))])\n",
    "\n",
    "knn_pipeline.fit(X, y)\n",
    "y_pred = knn_pipeline.predict(X)    \n",
    "matrix = confusion_matrix(y, y_pred)\n",
    "matrix"
   ]
  },
  {
   "cell_type": "code",
   "execution_count": 348,
   "metadata": {},
   "outputs": [
    {
     "data": {
      "text/html": [
       "<div>\n",
       "<style scoped>\n",
       "    .dataframe tbody tr th:only-of-type {\n",
       "        vertical-align: middle;\n",
       "    }\n",
       "\n",
       "    .dataframe tbody tr th {\n",
       "        vertical-align: top;\n",
       "    }\n",
       "\n",
       "    .dataframe thead th {\n",
       "        text-align: right;\n",
       "    }\n",
       "</style>\n",
       "<table border=\"1\" class=\"dataframe\">\n",
       "  <thead>\n",
       "    <tr style=\"text-align: right;\">\n",
       "      <th></th>\n",
       "      <th>Model</th>\n",
       "      <th>Penalty</th>\n",
       "      <th>Roc-Auc</th>\n",
       "    </tr>\n",
       "  </thead>\n",
       "  <tbody>\n",
       "    <tr>\n",
       "      <th>0</th>\n",
       "      <td>Model 1</td>\n",
       "      <td>None</td>\n",
       "      <td>0.854439</td>\n",
       "    </tr>\n",
       "    <tr>\n",
       "      <th>1</th>\n",
       "      <td>Model 1</td>\n",
       "      <td>l2</td>\n",
       "      <td>0.860047</td>\n",
       "    </tr>\n",
       "    <tr>\n",
       "      <th>2</th>\n",
       "      <td>Model 2</td>\n",
       "      <td>None</td>\n",
       "      <td>0.864793</td>\n",
       "    </tr>\n",
       "    <tr>\n",
       "      <th>3</th>\n",
       "      <td>Model 2</td>\n",
       "      <td>l2</td>\n",
       "      <td>0.866465</td>\n",
       "    </tr>\n",
       "    <tr>\n",
       "      <th>4</th>\n",
       "      <td>Model 3</td>\n",
       "      <td>None</td>\n",
       "      <td>0.858699</td>\n",
       "    </tr>\n",
       "    <tr>\n",
       "      <th>5</th>\n",
       "      <td>Model 3</td>\n",
       "      <td>l2</td>\n",
       "      <td>0.860695</td>\n",
       "    </tr>\n",
       "    <tr>\n",
       "      <th>6</th>\n",
       "      <td>Model 4</td>\n",
       "      <td>None</td>\n",
       "      <td>0.853791</td>\n",
       "    </tr>\n",
       "    <tr>\n",
       "      <th>7</th>\n",
       "      <td>Model 4</td>\n",
       "      <td>l2</td>\n",
       "      <td>0.860641</td>\n",
       "    </tr>\n",
       "  </tbody>\n",
       "</table>\n",
       "</div>"
      ],
      "text/plain": [
       "     Model Penalty   Roc-Auc\n",
       "0  Model 1    None  0.854439\n",
       "1  Model 1      l2  0.860047\n",
       "2  Model 2    None  0.864793\n",
       "3  Model 2      l2  0.866465\n",
       "4  Model 3    None  0.858699\n",
       "5  Model 3      l2  0.860695\n",
       "6  Model 4    None  0.853791\n",
       "7  Model 4      l2  0.860641"
      ]
     },
     "execution_count": 348,
     "metadata": {},
     "output_type": "execute_result"
    }
   ],
   "source": [
    "#Logistic Model Tuning\n",
    "\n",
    "def tune_log(model, penalty):\n",
    "\n",
    "    X = df[model]\n",
    "    y = df['output']\n",
    "    \n",
    "    log_pipeline = Pipeline(\n",
    "        [(\"preprocessing\", ct),\n",
    "         (\"log\", LogisticRegression(penalty = penalty))])\n",
    "    \n",
    "    y_pred_cv = cross_val_predict(log_pipeline, X, y, cv = 5, method = 'predict_proba')[:, 1]\n",
    "    fpr, tpr, _ = roc_curve(y, y_pred_cv)\n",
    "    roc_auc = auc(fpr, tpr)\n",
    "        \n",
    "    return roc_auc\n",
    "\n",
    "model1 = ['age', 'sex', 'cp', 'trtbps', 'chol', 'restecg', 'thalach']\n",
    "model2 = ['age', 'sex', 'cp', 'trtbps', 'chol', 'thalach']\n",
    "model3 = ['age', 'sex', 'cp', 'trtbps', 'thalach']\n",
    "model4 = ['sex', 'cp', 'trtbps', 'chol', 'restecg', 'thalach']\n",
    "models = {'Model 1': model1, 'Model 2': model2, 'Model 3': model3, 'Model 4': model4}\n",
    "penalties = [None, 'l2']\n",
    "\n",
    "columns = ['Model', 'Penalty', 'Roc-Auc']\n",
    "tune_df = pd.DataFrame(columns = columns)\n",
    "for name, model in models.items():\n",
    "    for pen in penalties:\n",
    "        roc_auc = tune_log(model, pen)\n",
    "        row = {'Model': name, 'Penalty': pen, 'Roc-Auc': roc_auc}\n",
    "        row = pd.DataFrame([row])\n",
    "        tune_df = pd.concat([tune_df, row], ignore_index = True)\n",
    "        \n",
    "tune_df"
   ]
  },
  {
   "cell_type": "code",
   "execution_count": 349,
   "metadata": {},
   "outputs": [
    {
     "data": {
      "text/plain": [
       "array([[ 95,  32],\n",
       "       [ 24, 122]])"
      ]
     },
     "execution_count": 349,
     "metadata": {},
     "output_type": "execute_result"
    }
   ],
   "source": [
    "#Logistic Model Fit (Model 2; Penalty = 'l2')\n",
    "\n",
    "X = df[['age', 'sex', 'cp', 'trtbps', 'chol', 'thalach']]\n",
    "y = df['output']\n",
    "    \n",
    "log_pipeline = Pipeline(\n",
    "    [(\"preprocessing\", ct),\n",
    "     (\"log\", LogisticRegression(penalty = 'l2'))])\n",
    "\n",
    "log_pipeline.fit(X, y)\n",
    "y_pred = log_pipeline.predict(X)    \n",
    "matrix = confusion_matrix(y, y_pred)\n",
    "matrix"
   ]
  },
  {
   "cell_type": "code",
   "execution_count": 350,
   "metadata": {},
   "outputs": [
    {
     "data": {
      "text/html": [
       "<div>\n",
       "<style scoped>\n",
       "    .dataframe tbody tr th:only-of-type {\n",
       "        vertical-align: middle;\n",
       "    }\n",
       "\n",
       "    .dataframe tbody tr th {\n",
       "        vertical-align: top;\n",
       "    }\n",
       "\n",
       "    .dataframe thead th {\n",
       "        text-align: right;\n",
       "    }\n",
       "</style>\n",
       "<table border=\"1\" class=\"dataframe\">\n",
       "  <thead>\n",
       "    <tr style=\"text-align: right;\">\n",
       "      <th></th>\n",
       "      <th>Model</th>\n",
       "      <th>Alpha</th>\n",
       "      <th>Roc-Auc</th>\n",
       "    </tr>\n",
       "  </thead>\n",
       "  <tbody>\n",
       "    <tr>\n",
       "      <th>0</th>\n",
       "      <td>Model 1</td>\n",
       "      <td>0.01</td>\n",
       "      <td>0.747007</td>\n",
       "    </tr>\n",
       "    <tr>\n",
       "      <th>1</th>\n",
       "      <td>Model 1</td>\n",
       "      <td>0.02</td>\n",
       "      <td>0.761622</td>\n",
       "    </tr>\n",
       "    <tr>\n",
       "      <th>2</th>\n",
       "      <td>Model 1</td>\n",
       "      <td>0.03</td>\n",
       "      <td>0.745227</td>\n",
       "    </tr>\n",
       "    <tr>\n",
       "      <th>3</th>\n",
       "      <td>Model 2</td>\n",
       "      <td>0.01</td>\n",
       "      <td>0.787536</td>\n",
       "    </tr>\n",
       "    <tr>\n",
       "      <th>4</th>\n",
       "      <td>Model 2</td>\n",
       "      <td>0.02</td>\n",
       "      <td>0.765344</td>\n",
       "    </tr>\n",
       "    <tr>\n",
       "      <th>5</th>\n",
       "      <td>Model 2</td>\n",
       "      <td>0.03</td>\n",
       "      <td>0.745227</td>\n",
       "    </tr>\n",
       "    <tr>\n",
       "      <th>6</th>\n",
       "      <td>Model 3</td>\n",
       "      <td>0.01</td>\n",
       "      <td>0.789990</td>\n",
       "    </tr>\n",
       "    <tr>\n",
       "      <th>7</th>\n",
       "      <td>Model 3</td>\n",
       "      <td>0.02</td>\n",
       "      <td>0.773029</td>\n",
       "    </tr>\n",
       "    <tr>\n",
       "      <th>8</th>\n",
       "      <td>Model 3</td>\n",
       "      <td>0.03</td>\n",
       "      <td>0.745227</td>\n",
       "    </tr>\n",
       "  </tbody>\n",
       "</table>\n",
       "</div>"
      ],
      "text/plain": [
       "     Model  Alpha   Roc-Auc\n",
       "0  Model 1   0.01  0.747007\n",
       "1  Model 1   0.02  0.761622\n",
       "2  Model 1   0.03  0.745227\n",
       "3  Model 2   0.01  0.787536\n",
       "4  Model 2   0.02  0.765344\n",
       "5  Model 2   0.03  0.745227\n",
       "6  Model 3   0.01  0.789990\n",
       "7  Model 3   0.02  0.773029\n",
       "8  Model 3   0.03  0.745227"
      ]
     },
     "execution_count": 350,
     "metadata": {},
     "output_type": "execute_result"
    }
   ],
   "source": [
    "#Decision Tree Model Tuning\n",
    "\n",
    "def tune_dt(model, alpha):\n",
    "\n",
    "    X = df[model]\n",
    "    y = df['output']\n",
    "    \n",
    "    dt_pipeline = Pipeline(\n",
    "    [(\"preprocessing\", ct),\n",
    "     (\"dt\", DecisionTreeClassifier(ccp_alpha = alpha))])  \n",
    "    \n",
    "    y_pred_cv = cross_val_predict(dt_pipeline, X, y, cv = 5, method = 'predict_proba')[:, 1]\n",
    "    fpr, tpr, _ = roc_curve(y, y_pred_cv)\n",
    "    roc_auc = auc(fpr, tpr)\n",
    "    \n",
    "    return roc_auc\n",
    "\n",
    "model1 = ['age', 'sex', 'cp', 'trtbps', 'chol', 'restecg', 'thalach']\n",
    "model2 = ['age', 'sex', 'cp', 'trtbps']\n",
    "model3 = ['age', 'sex', 'cp']\n",
    "models = {'Model 1': model1, 'Model 2': model2, 'Model 3': model3}\n",
    "alpha_values = [0.01, 0.02, 0.03]\n",
    "\n",
    "columns = ['Model', 'Alpha', 'Roc-Auc']\n",
    "tune_df = pd.DataFrame(columns = columns)\n",
    "for name, model in models.items():\n",
    "    for alpha in alpha_values:\n",
    "        roc_auc = tune_dt(model, alpha)\n",
    "        row = {'Model': name, 'Alpha': alpha, 'Roc-Auc': roc_auc}\n",
    "        row = pd.DataFrame([row])\n",
    "        tune_df = pd.concat([tune_df, row], ignore_index = True)\n",
    "        \n",
    "tune_df"
   ]
  },
  {
   "cell_type": "code",
   "execution_count": 351,
   "metadata": {},
   "outputs": [
    {
     "data": {
      "text/plain": [
       "array([[114,  13],\n",
       "       [ 47,  99]])"
      ]
     },
     "execution_count": 351,
     "metadata": {},
     "output_type": "execute_result"
    }
   ],
   "source": [
    "#Decision Tree Model Fit (Model 3; Alpha = 0.02)\n",
    "\n",
    "X = df[['age', 'sex', 'cp']]\n",
    "y = df['output']\n",
    "    \n",
    "dt_pipeline = Pipeline(\n",
    "    [(\"preprocessing\", ct),\n",
    "     (\"dt\", DecisionTreeClassifier(ccp_alpha = 0.02))])  \n",
    "\n",
    "dt_pipeline.fit(X, y)\n",
    "y_pred = dt_pipeline.predict(X)    \n",
    "matrix = confusion_matrix(y, y_pred)\n",
    "matrix"
   ]
  },
  {
   "cell_type": "markdown",
   "metadata": {},
   "source": [
    "#Interpretation:\n",
    "\n",
    "The \"best\" model across all three classification methods included the variables 'age', 'sex, and 'cp', indicating that they are the strongest predictor variables. Some models utilized the 'trtbps', 'chol', and 'thalach' variables, meaning that they hold some value. The 'restecg' variable was the only unused predictor meaning that it can most likely be discarded from analysis. \n",
    "\n",
    "The tuning process for the Decision Tree model proved to be the most insightful for the usefulness of the predictors. During the tuning process, removing variables: 'trtbps', 'chol', 'restecg', thalach' from the model had little to no impact on the ROC-AUC value, compared to the full model. Conversely, removing variables 'age', 'sex', 'cp' from the model strongly decreased the ROC-AUC value. Fittingly, our strongest DT model only included the three most important variables."
   ]
  },
  {
   "cell_type": "code",
   "execution_count": 352,
   "metadata": {},
   "outputs": [
    {
     "data": {
      "text/html": [
       "<div>\n",
       "<style scoped>\n",
       "    .dataframe tbody tr th:only-of-type {\n",
       "        vertical-align: middle;\n",
       "    }\n",
       "\n",
       "    .dataframe tbody tr th {\n",
       "        vertical-align: top;\n",
       "    }\n",
       "\n",
       "    .dataframe thead th {\n",
       "        text-align: right;\n",
       "    }\n",
       "</style>\n",
       "<table border=\"1\" class=\"dataframe\">\n",
       "  <thead>\n",
       "    <tr style=\"text-align: right;\">\n",
       "      <th></th>\n",
       "      <th>Model</th>\n",
       "      <th>FPR</th>\n",
       "      <th>TPR</th>\n",
       "    </tr>\n",
       "  </thead>\n",
       "  <tbody>\n",
       "    <tr>\n",
       "      <th>0</th>\n",
       "      <td>KNN</td>\n",
       "      <td>0.000000</td>\n",
       "      <td>0.000000</td>\n",
       "    </tr>\n",
       "    <tr>\n",
       "      <th>1</th>\n",
       "      <td>KNN</td>\n",
       "      <td>0.000000</td>\n",
       "      <td>0.006849</td>\n",
       "    </tr>\n",
       "    <tr>\n",
       "      <th>2</th>\n",
       "      <td>KNN</td>\n",
       "      <td>0.000000</td>\n",
       "      <td>0.027397</td>\n",
       "    </tr>\n",
       "    <tr>\n",
       "      <th>3</th>\n",
       "      <td>KNN</td>\n",
       "      <td>0.000000</td>\n",
       "      <td>0.054795</td>\n",
       "    </tr>\n",
       "    <tr>\n",
       "      <th>4</th>\n",
       "      <td>KNN</td>\n",
       "      <td>0.000000</td>\n",
       "      <td>0.095890</td>\n",
       "    </tr>\n",
       "    <tr>\n",
       "      <th>...</th>\n",
       "      <td>...</td>\n",
       "      <td>...</td>\n",
       "      <td>...</td>\n",
       "    </tr>\n",
       "    <tr>\n",
       "      <th>138</th>\n",
       "      <td>DT</td>\n",
       "      <td>0.582677</td>\n",
       "      <td>0.856164</td>\n",
       "    </tr>\n",
       "    <tr>\n",
       "      <th>139</th>\n",
       "      <td>DT</td>\n",
       "      <td>0.716535</td>\n",
       "      <td>0.904110</td>\n",
       "    </tr>\n",
       "    <tr>\n",
       "      <th>140</th>\n",
       "      <td>DT</td>\n",
       "      <td>0.866142</td>\n",
       "      <td>0.958904</td>\n",
       "    </tr>\n",
       "    <tr>\n",
       "      <th>141</th>\n",
       "      <td>DT</td>\n",
       "      <td>0.992126</td>\n",
       "      <td>0.986301</td>\n",
       "    </tr>\n",
       "    <tr>\n",
       "      <th>142</th>\n",
       "      <td>DT</td>\n",
       "      <td>1.000000</td>\n",
       "      <td>1.000000</td>\n",
       "    </tr>\n",
       "  </tbody>\n",
       "</table>\n",
       "<p>143 rows × 3 columns</p>\n",
       "</div>"
      ],
      "text/plain": [
       "    Model       FPR       TPR\n",
       "0     KNN  0.000000  0.000000\n",
       "1     KNN  0.000000  0.006849\n",
       "2     KNN  0.000000  0.027397\n",
       "3     KNN  0.000000  0.054795\n",
       "4     KNN  0.000000  0.095890\n",
       "..    ...       ...       ...\n",
       "138    DT  0.582677  0.856164\n",
       "139    DT  0.716535  0.904110\n",
       "140    DT  0.866142  0.958904\n",
       "141    DT  0.992126  0.986301\n",
       "142    DT  1.000000  1.000000\n",
       "\n",
       "[143 rows x 3 columns]"
      ]
     },
     "execution_count": 352,
     "metadata": {},
     "output_type": "execute_result"
    }
   ],
   "source": [
    "#Roc Curve Plot DataFrame\n",
    "\n",
    "X_knn = df[['age', 'sex', 'cp', 'trtbps', 'thalach']]\n",
    "X_log = df[['age', 'sex', 'cp', 'trtbps', 'chol', 'thalach']]\n",
    "X_dt = df[['age', 'sex', 'cp']]\n",
    "y = df['output']\n",
    "\n",
    "knn_pipeline = Pipeline(\n",
    "    [(\"preprocessing\", ct),\n",
    "     (\"knn\", KNeighborsClassifier(n_neighbors = 40))])\n",
    "\n",
    "log_pipeline = Pipeline(\n",
    "    [(\"preprocessing\", ct),\n",
    "     (\"log\", LogisticRegression(penalty = 'l2'))])\n",
    "\n",
    "dt_pipeline = Pipeline(\n",
    "    [(\"preprocessing\", ct),\n",
    "     (\"dt\", DecisionTreeClassifier(ccp_alpha = 0.02))])\n",
    "\n",
    "pipelines = {'KNN': knn_pipeline, 'Log': log_pipeline, 'DT': dt_pipeline}\n",
    "\n",
    "columns = ['Model', 'FPR', 'TPR']\n",
    "roc_df = pd.DataFrame(columns = columns)\n",
    "for name, pipeline in pipelines.items():\n",
    "    if name == 'KNN':\n",
    "        y_pred_cv = cross_val_predict(pipeline, X_knn, y, cv = 5, method = 'predict_proba')[:, 1]\n",
    "    elif name == 'Log':\n",
    "        y_pred_cv = cross_val_predict(pipeline, X_log, y, cv = 5, method = 'predict_proba')[:, 1]\n",
    "    elif name == 'DT':\n",
    "        y_pred_cv = cross_val_predict(pipeline, X_dt, y, cv = 5, method = 'predict_proba')[:, 1]\n",
    "        \n",
    "    fpr, tpr, _ = roc_curve(y, y_pred_cv)\n",
    "    ind_df = pd.DataFrame({'Model': name, 'FPR': fpr, 'TPR': tpr})\n",
    "    roc_df = pd.concat([roc_df, ind_df], ignore_index = True)\n",
    "\n",
    "roc_df"
   ]
  },
  {
   "cell_type": "code",
   "execution_count": 353,
   "metadata": {},
   "outputs": [],
   "source": [
    "from plotnine import ggplot, aes, geom_point, geom_line, geom_histogram, geom_bar, labs, geom_smooth, facet_wrap\n",
    "from plotnine import guide_legend, ggtitle, theme_minimal, guides, element_text, scale_color_manual, geom_abline"
   ]
  },
  {
   "cell_type": "code",
   "execution_count": 354,
   "metadata": {},
   "outputs": [
    {
     "data": {
      "image/png": "[encoded data removed]",
      "text/plain": [
       "<Figure size 640x480 with 1 Axes>"
      ]
     },
     "metadata": {
      "image/png": {
       "height": 480,
       "width": 640
      },
      "needs_background": "light"
     },
     "output_type": "display_data"
    },
    {
     "data": {
      "text/plain": [
       "<Figure Size: (640 x 480)>"
      ]
     },
     "execution_count": 354,
     "metadata": {},
     "output_type": "execute_result"
    }
   ],
   "source": [
    "#Roc Curve Plotting\n",
    "\n",
    "(ggplot(roc_df, aes(x = 'FPR', y = 'TPR'))\n",
    "+ geom_line(aes(color = 'Model', linetype = 'Model'))\n",
    "+ geom_abline(intercept = 0, slope = 1, linetype = '--', color = 'navy')\n",
    "+ labs(title = f'ROC Curve By Model', x = 'False Positive Rate', y = 'True Positive Rate')\n",
    "+ theme_minimal()\n",
    "#+ facet_wrap('Model')\n",
    ")"
   ]
  },
  {
   "cell_type": "markdown",
   "metadata": {},
   "source": [
    "# Part Two: Metrics"
   ]
  },
  {
   "cell_type": "code",
   "execution_count": 355,
   "metadata": {},
   "outputs": [
    {
     "data": {
      "text/html": [
       "<div>\n",
       "<style scoped>\n",
       "    .dataframe tbody tr th:only-of-type {\n",
       "        vertical-align: middle;\n",
       "    }\n",
       "\n",
       "    .dataframe tbody tr th {\n",
       "        vertical-align: top;\n",
       "    }\n",
       "\n",
       "    .dataframe thead th {\n",
       "        text-align: right;\n",
       "    }\n",
       "</style>\n",
       "<table border=\"1\" class=\"dataframe\">\n",
       "  <thead>\n",
       "    <tr style=\"text-align: right;\">\n",
       "      <th></th>\n",
       "      <th>Model</th>\n",
       "      <th>Sensitivity</th>\n",
       "      <th>Precision</th>\n",
       "      <th>Specificity</th>\n",
       "    </tr>\n",
       "  </thead>\n",
       "  <tbody>\n",
       "    <tr>\n",
       "      <th>0</th>\n",
       "      <td>KNN</td>\n",
       "      <td>0.779528</td>\n",
       "      <td>0.798561</td>\n",
       "      <td>0.760274</td>\n",
       "    </tr>\n",
       "    <tr>\n",
       "      <th>1</th>\n",
       "      <td>Log</td>\n",
       "      <td>0.748031</td>\n",
       "      <td>0.792208</td>\n",
       "      <td>0.835616</td>\n",
       "    </tr>\n",
       "    <tr>\n",
       "      <th>2</th>\n",
       "      <td>DT</td>\n",
       "      <td>0.795276</td>\n",
       "      <td>0.800000</td>\n",
       "      <td>0.712329</td>\n",
       "    </tr>\n",
       "  </tbody>\n",
       "</table>\n",
       "</div>"
      ],
      "text/plain": [
       "  Model  Sensitivity  Precision  Specificity\n",
       "0   KNN     0.779528   0.798561     0.760274\n",
       "1   Log     0.748031   0.792208     0.835616\n",
       "2    DT     0.795276   0.800000     0.712329"
      ]
     },
     "execution_count": 355,
     "metadata": {},
     "output_type": "execute_result"
    }
   ],
   "source": [
    "#Metrics Function\n",
    "\n",
    "knn_pipeline = Pipeline(\n",
    "    [(\"preprocessing\", ct),\n",
    "     (\"knn\", KNeighborsClassifier(n_neighbors = 40))])\n",
    "    \n",
    "log_pipeline = Pipeline(\n",
    "    [(\"preprocessing\", ct),\n",
    "     (\"log\", LogisticRegression(penalty = 'l2'))])\n",
    "    \n",
    "dt_pipeline = Pipeline(\n",
    "    [(\"preprocessing\", ct),\n",
    "     (\"dt\", DecisionTreeClassifier(ccp_alpha = 0.02))])\n",
    "\n",
    "def get_metrics(name, pipeline):\n",
    "    \n",
    "    if pipeline == knn_pipeline:\n",
    "        X = df[['age', 'sex', 'cp', 'trtbps', 'thalach']]\n",
    "    if pipeline == log_pipeline:\n",
    "        X = df[['age', 'sex', 'cp', 'trtbps', 'chol', 'thalach']]\n",
    "    if pipeline == dt_pipeline:\n",
    "        X = df[['age', 'sex', 'cp']]\n",
    "        \n",
    "    y = df['output']\n",
    "    y_pred_cv = cross_val_predict(pipeline, X, y, cv = 5, method = 'predict')\n",
    "    matrix = confusion_matrix(y, y_pred_cv)\n",
    "    tn, fp, fn, tp = matrix.ravel()\n",
    "    \n",
    "    sensitivity = tn / (tn + fp)\n",
    "    precision  = tp / (tp + fp)\n",
    "    specificity = tp / (tp + fn)\n",
    "    \n",
    "    data = pd.DataFrame({'Model': [name], 'Sensitivity': [sensitivity], 'Precision': [precision], \n",
    "                         'Specificity': [specificity]}, index = [0])\n",
    "    \n",
    "    return data\n",
    "\n",
    "pipelines = {'KNN': knn_pipeline, 'Log': log_pipeline, 'DT': dt_pipeline}\n",
    "columns = ['Model', 'Sensitivity', 'Precision', 'Specificity']\n",
    "metrics_df = pd.DataFrame(columns = columns)\n",
    "for name, model in pipelines.items():\n",
    "    row = get_metrics(name, model)\n",
    "    row = pd.DataFrame(row)\n",
    "    metrics_df = pd.concat([metrics_df, row], ignore_index = True)\n",
    "\n",
    "metrics_df"
   ]
  },
  {
   "cell_type": "markdown",
   "metadata": {},
   "source": [
    "# Part Three: Discussion"
   ]
  },
  {
   "cell_type": "markdown",
   "metadata": {},
   "source": [
    "#Q1:\n",
    "\n",
    "In this case, the consequences are severe if the hospital does not detect heart attack risk. It is best to include all pertinent variables so that no stone is left unturned. I would use all variables except for 'restecg' which was deemed to be insignificant in Part 1. Since the hospital wants to avoid false negatives, I would recommend using the DT model since is has the highest Sensitivity. Sensitivity or Recall, is the proportion of actual positives that are identified correctly.\n",
    "\n",
    "\n",
    "#Q2\n",
    "\n",
    "In this case, the hospital needs to prioritize those who are are the highest heart attack risk. It makes the most sense to only include the most pertinent variables which were deemed to be 'age', 'sex' and 'cp'. This ensures that we are making the most efficient prediction of who is at risk. With that being said, I would recommend using the Log model as it has the highest Specificity. Specificity is the true negative rate, meaning that the Log model produces the least False Positives, ensuring that we do not waste any bed space on healthy patients. \n",
    "\n",
    "\n",
    "#Q3\n",
    "\n",
    "In this case, the hospital wants a more wholistic view on the measures associated with heart attack risk. It then makes sense to incorporate all variables in the analysis, even if they were deemed to be unimportant in Part 1. I would then recommend using all three models for this scenario because it gives you a bigger picture between the relationship of the metrics. The KNN, LOG, and DT models had varying levels of success across the three metrics. \n",
    "\n",
    "\n",
    "#Q4\n",
    "\n",
    "In this case, the hospital would like to compare the diagnoses of a new set of doctors to the predictions made by the various models. I would recommend using the three different models I provided to get a good overview of model performance. From there, you could compare the model performance to that of the new set of doctors by comparing the 3 main metrics. By just using one model, you run the risk of overfitting or drawing conclusions from the model performance that may not be entirely accurate. "
   ]
  },
  {
   "cell_type": "markdown",
   "metadata": {},
   "source": [
    "# Part Four: Validation"
   ]
  },
  {
   "cell_type": "code",
   "execution_count": 356,
   "metadata": {},
   "outputs": [
    {
     "data": {
      "text/html": [
       "<div>\n",
       "<style scoped>\n",
       "    .dataframe tbody tr th:only-of-type {\n",
       "        vertical-align: middle;\n",
       "    }\n",
       "\n",
       "    .dataframe tbody tr th {\n",
       "        vertical-align: top;\n",
       "    }\n",
       "\n",
       "    .dataframe thead th {\n",
       "        text-align: right;\n",
       "    }\n",
       "</style>\n",
       "<table border=\"1\" class=\"dataframe\">\n",
       "  <thead>\n",
       "    <tr style=\"text-align: right;\">\n",
       "      <th></th>\n",
       "      <th>age</th>\n",
       "      <th>sex</th>\n",
       "      <th>cp</th>\n",
       "      <th>trtbps</th>\n",
       "      <th>chol</th>\n",
       "      <th>restecg</th>\n",
       "      <th>thalach</th>\n",
       "      <th>output</th>\n",
       "    </tr>\n",
       "  </thead>\n",
       "  <tbody>\n",
       "    <tr>\n",
       "      <th>0</th>\n",
       "      <td>41</td>\n",
       "      <td>0</td>\n",
       "      <td>1</td>\n",
       "      <td>130</td>\n",
       "      <td>204</td>\n",
       "      <td>0</td>\n",
       "      <td>172</td>\n",
       "      <td>1</td>\n",
       "    </tr>\n",
       "    <tr>\n",
       "      <th>1</th>\n",
       "      <td>64</td>\n",
       "      <td>1</td>\n",
       "      <td>3</td>\n",
       "      <td>110</td>\n",
       "      <td>211</td>\n",
       "      <td>0</td>\n",
       "      <td>144</td>\n",
       "      <td>1</td>\n",
       "    </tr>\n",
       "    <tr>\n",
       "      <th>2</th>\n",
       "      <td>59</td>\n",
       "      <td>1</td>\n",
       "      <td>0</td>\n",
       "      <td>135</td>\n",
       "      <td>234</td>\n",
       "      <td>1</td>\n",
       "      <td>161</td>\n",
       "      <td>1</td>\n",
       "    </tr>\n",
       "  </tbody>\n",
       "</table>\n",
       "</div>"
      ],
      "text/plain": [
       "   age  sex cp  trtbps  chol restecg  thalach  output\n",
       "0   41    0  1     130   204       0      172       1\n",
       "1   64    1  3     110   211       0      144       1\n",
       "2   59    1  0     135   234       1      161       1"
      ]
     },
     "execution_count": 356,
     "metadata": {},
     "output_type": "execute_result"
    }
   ],
   "source": [
    "ha_validation = pd.read_csv(\"https://www.dropbox.com/s/jkwqdiyx6o6oad0/heart_attack_validation.csv?dl=1\")\n",
    "valid_df = pd.DataFrame(ha_validation)\n",
    "valid_df['cp'] = valid_df['cp'].astype('object')\n",
    "valid_df['restecg'] = valid_df['restecg'].astype('object')\n",
    "valid_df['output'].astype(int)\n",
    "valid_df.head(3)"
   ]
  },
  {
   "cell_type": "code",
   "execution_count": 357,
   "metadata": {},
   "outputs": [
    {
     "data": {
      "text/plain": [
       "(array([[10,  1],\n",
       "        [ 8, 11]]),\n",
       "     Roc-Auc  Precision  Recall\n",
       " 0  0.744019   0.784259     0.7)"
      ]
     },
     "execution_count": 357,
     "metadata": {},
     "output_type": "execute_result"
    }
   ],
   "source": [
    "#KNN Model Validation\n",
    "\n",
    "X = df[['age', 'sex', 'cp', 'trtbps', 'chol', 'thalach']]\n",
    "y = df['output']\n",
    "\n",
    "X_valid = valid_df[['age', 'sex', 'cp', 'trtbps', 'chol', 'thalach']]\n",
    "y_valid = valid_df['output']\n",
    "\n",
    "knn_pipeline = Pipeline(\n",
    "    [(\"preprocessing\", ct),\n",
    "     (\"knn\", KNeighborsClassifier(n_neighbors = 40))])\n",
    "\n",
    "knn_pipeline.fit(X, y)\n",
    "y_pred = knn_pipeline.predict(X_valid) \n",
    "\n",
    "matrix = confusion_matrix(y_valid, y_pred)\n",
    "\n",
    "fpr, tpr, _ = roc_curve(y_valid, y_pred)\n",
    "roc_auc = auc(fpr, tpr)\n",
    "precision, recall, fscore, support = precision_recall_fscore_support(y_valid, y_pred, average = 'weighted')\n",
    "\n",
    "data = pd.DataFrame({'Roc-Auc': [roc_auc], 'Precision': [precision], 'Recall': [recall]})\n",
    "\n",
    "matrix, data"
   ]
  },
  {
   "cell_type": "code",
   "execution_count": 358,
   "metadata": {},
   "outputs": [
    {
     "data": {
      "text/plain": [
       "(array([[ 8,  3],\n",
       "        [ 5, 14]]),\n",
       "     Roc-Auc  Precision    Recall\n",
       " 0  0.732057    0.74721  0.733333)"
      ]
     },
     "execution_count": 358,
     "metadata": {},
     "output_type": "execute_result"
    }
   ],
   "source": [
    "#Logistic Model Validation\n",
    "\n",
    "X = df[['age', 'sex', 'cp', 'trtbps', 'chol', 'thalach']]\n",
    "y = df['output']\n",
    "\n",
    "X_valid = valid_df[['age', 'sex', 'cp', 'trtbps', 'chol', 'thalach']]\n",
    "y_valid = valid_df['output']\n",
    "\n",
    "log_pipeline = Pipeline(\n",
    "    [(\"preprocessing\", ct),\n",
    "     (\"log\", LogisticRegression(penalty = 'l2'))])\n",
    "\n",
    "log_pipeline.fit(X, y)\n",
    "y_pred = log_pipeline.predict(X_valid) \n",
    "\n",
    "matrix = confusion_matrix(y_valid, y_pred)\n",
    "\n",
    "fpr, tpr, _ = roc_curve(y_valid, y_pred)\n",
    "roc_auc = auc(fpr, tpr)\n",
    "precision, recall, fscore, support = precision_recall_fscore_support(y_valid, y_pred, average = 'weighted')\n",
    "\n",
    "data = pd.DataFrame({'Roc-Auc': [roc_auc], 'Precision': [precision], 'Recall': [recall]})\n",
    "\n",
    "matrix, data"
   ]
  },
  {
   "cell_type": "code",
   "execution_count": 359,
   "metadata": {},
   "outputs": [
    {
     "data": {
      "text/plain": [
       "(array([[11,  0],\n",
       "        [ 9, 10]]),\n",
       "     Roc-Auc  Precision  Recall\n",
       " 0  0.763158      0.835     0.7)"
      ]
     },
     "execution_count": 359,
     "metadata": {},
     "output_type": "execute_result"
    }
   ],
   "source": [
    "#Decision Tree Model Validation\n",
    "\n",
    "X = df[['age', 'sex', 'cp']]\n",
    "y = df['output']\n",
    "\n",
    "X_valid = valid_df[['age', 'sex', 'cp']]\n",
    "y_valid = valid_df['output']\n",
    "\n",
    "dt_pipeline = Pipeline(\n",
    "    [(\"preprocessing\", ct),\n",
    "     (\"dt\", DecisionTreeClassifier(ccp_alpha = 0.02))])\n",
    "\n",
    "dt_pipeline.fit(X, y)\n",
    "y_pred = dt_pipeline.predict(X_valid) \n",
    "\n",
    "matrix = confusion_matrix(y_valid, y_pred)\n",
    "\n",
    "fpr, tpr, _ = roc_curve(y_valid, y_pred)\n",
    "roc_auc = auc(fpr, tpr)\n",
    "precision, recall, fscore, support = precision_recall_fscore_support(y_valid, y_pred, average = 'weighted')\n",
    "\n",
    "data = pd.DataFrame({'Roc-Auc': [roc_auc], 'Precision': [precision], 'Recall': [recall]})\n",
    "\n",
    "matrix, data"
   ]
  },
  {
   "cell_type": "markdown",
   "metadata": {},
   "source": [
    "#Analysis:\n",
    "\n",
    "The cross-validated Roc-Auc values reported in Part 1 are much higher for the \"best\" KNN and Logistic models. This is likely due to overfitting within the training data set. The Roc-Auc value for the Decision Tree Model however remained very similar. The decision tree model was the simplest of the three \"best\" models, this is likely why it didn't suffer from the same overfitting as the KNN and Logisitic models.\n",
    "\n",
    "When it comes to the metrics, Precision and Recall (Sensitivity), the cross validated training set and validation set estimations were relatively similar. In Part 2, Recall (Sensitivity) tended to be slightly overestimated in each of the three models. Precision tended to be very accurate as the best performing model across both methods was KNN; 0.80 for the cross-validated Training Set and 0.835 for the Validation Set."
   ]
  },
  {
   "cell_type": "markdown",
   "metadata": {},
   "source": [
    "# Part Five: Cohen's Kappa"
   ]
  },
  {
   "cell_type": "code",
   "execution_count": 360,
   "metadata": {},
   "outputs": [
    {
     "data": {
      "text/plain": [
       "0.4303797468354431"
      ]
     },
     "execution_count": 360,
     "metadata": {},
     "output_type": "execute_result"
    }
   ],
   "source": [
    "#KNN Model Cohen's Kappa\n",
    "\n",
    "X = df[['age', 'sex', 'cp', 'trtbps', 'chol', 'thalach']]\n",
    "y = df['output']\n",
    "\n",
    "X_valid = valid_df[['age', 'sex', 'cp', 'trtbps', 'chol', 'thalach']]\n",
    "y_valid = valid_df['output']\n",
    "\n",
    "knn_pipeline = Pipeline(\n",
    "    [(\"preprocessing\", ct),\n",
    "     (\"knn\", KNeighborsClassifier(n_neighbors = 40))])\n",
    "\n",
    "knn_pipeline.fit(X, y)\n",
    "y_pred = knn_pipeline.predict(X_valid) \n",
    "\n",
    "cohen_kappa_score(y_valid, y_pred)"
   ]
  },
  {
   "cell_type": "code",
   "execution_count": 361,
   "metadata": {},
   "outputs": [
    {
     "data": {
      "text/plain": [
       "0.4470046082949308"
      ]
     },
     "execution_count": 361,
     "metadata": {},
     "output_type": "execute_result"
    }
   ],
   "source": [
    "#Logistic Model Cohen's Kappa\n",
    "\n",
    "X = df[['age', 'sex', 'cp', 'trtbps', 'chol', 'thalach']]\n",
    "y = df['output']\n",
    "\n",
    "X_valid = valid_df[['age', 'sex', 'cp', 'trtbps', 'chol', 'thalach']]\n",
    "y_valid = valid_df['output']\n",
    "\n",
    "log_pipeline = Pipeline(\n",
    "    [(\"preprocessing\", ct),\n",
    "     (\"log\", LogisticRegression(penalty = 'l2'))])\n",
    "\n",
    "log_pipeline.fit(X, y)\n",
    "y_pred = log_pipeline.predict(X_valid) \n",
    "\n",
    "cohen_kappa_score(y_valid, y_pred)"
   ]
  },
  {
   "cell_type": "code",
   "execution_count": 362,
   "metadata": {},
   "outputs": [
    {
     "data": {
      "text/plain": [
       "0.44897959183673464"
      ]
     },
     "execution_count": 362,
     "metadata": {},
     "output_type": "execute_result"
    }
   ],
   "source": [
    "#Decision Tree Model Cohen's Kappa\n",
    "\n",
    "\n",
    "X = df[['age', 'sex', 'cp']]\n",
    "y = df['output']\n",
    "\n",
    "X_valid = valid_df[['age', 'sex', 'cp']]\n",
    "y_valid = valid_df['output']\n",
    "\n",
    "dt_pipeline = Pipeline(\n",
    "    [(\"preprocessing\", ct),\n",
    "     (\"dt\", DecisionTreeClassifier(ccp_alpha = 0.02))])\n",
    "\n",
    "dt_pipeline.fit(X, y)\n",
    "y_pred = dt_pipeline.predict(X_valid) \n",
    "\n",
    "cohen_kappa_score(y_valid, y_pred)"
   ]
  },
  {
   "cell_type": "markdown",
   "metadata": {},
   "source": [
    "#Analysis:\n",
    "\n",
    "The KNN model produced a lower Cohen's Kappa, while the Logistic and Decision Tree Models produced a slightly higher value. This is relatively consistent with all our previous analysis that shows that the Logistic and Decision Tree Models were stronger across various metrics. Overall, the main takeaway from Cohen's Kappa is that there is not much that seperates the three models, especially when validating on such a small dataset."
   ]
  }
 ],
 "metadata": {
  "kernelspec": {
   "display_name": "Python 3",
   "language": "python",
   "name": "python3"
  },
  "language_info": {
   "codemirror_mode": {
    "name": "ipython",
    "version": 3
   },
   "file_extension": ".py",
   "mimetype": "text/x-python",
   "name": "python",
   "nbconvert_exporter": "python",
   "pygments_lexer": "ipython3",
   "version": "3.8.5"
  }
 },
 "nbformat": 4,
 "nbformat_minor": 4
}
